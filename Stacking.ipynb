{
 "cells": [
  {
   "cell_type": "code",
   "execution_count": 6,
   "metadata": {},
   "outputs": [],
   "source": [
    "from sklearn.ensemble import RandomForestClassifier\n",
    "from sklearn.svm import LinearSVC\n",
    "from sklearn.svm import SVC\n",
    "from sklearn.tree import DecisionTreeClassifier\n",
    "from sklearn.linear_model import LogisticRegression\n",
    "from sklearn.naive_bayes import GaussianNB\n",
    "from sklearn.neighbors import KNeighborsClassifier\n",
    "from sklearn import model_selection\n",
    "from sklearn.ensemble import StackingClassifier\n",
    "import pandas as pd\n",
    "#from mlxtend.classifier import StackingClassifier"
   ]
  },
  {
   "cell_type": "code",
   "execution_count": 13,
   "metadata": {},
   "outputs": [],
   "source": [
    "data = pd.read_csv(\"ha.csv\")\n",
    "data.columns = ['age', 'sex', 'chest_pain_type', 'resting_blood_pressure', 'cholesterol', 'fasting_blood_sugar', 'rest_ecg', 'max_heart_rate_achieved',\n",
    "       'exercise_induced_angina', 'st_depression', 'st_slope','target']\n",
    "X = data.drop('target',axis=1)\n",
    "y = data['target']\n",
    "from sklearn.model_selection import train_test_split\n",
    "X_train, X_test, y_train, y_test = train_test_split(X, y, test_size=0.2, random_state=0)"
   ]
  },
  {
   "cell_type": "code",
   "execution_count": 34,
   "metadata": {},
   "outputs": [],
   "source": [
    "a=DecisionTreeClassifier(criterion= 'entropy', max_depth= 12, max_features= 'auto', min_samples_leaf= 1, min_samples_split= 2)\n",
    "b=KNeighborsClassifier(metric= 'manhattan', n_neighbors= 17, weights= 'distance')\n",
    "c=SVC(C= 1000, gamma= 0.0001, kernel= 'rbf')\n",
    "d=GaussianNB()\n",
    "e=RandomForestClassifier(max_features='log2', n_estimators= 1000)"
   ]
  },
  {
   "cell_type": "code",
   "execution_count": 35,
   "metadata": {},
   "outputs": [],
   "source": [
    "mylr =LogisticRegression(C= 1.0, penalty= 'l2', solver= 'newton-cg')"
   ]
  },
  {
   "cell_type": "code",
   "execution_count": 36,
   "metadata": {},
   "outputs": [],
   "source": [
    "st = StackingClassifier(estimators = [a,b,c,d,e],final_estimator = mylr)"
   ]
  },
  {
   "cell_type": "code",
   "execution_count": 37,
   "metadata": {},
   "outputs": [
    {
     "name": "stdout",
     "output_type": "stream",
     "text": [
      "A= 0.858 [a]\n",
      "A= 0.834 [b]\n",
      "A= 0.850 [c]\n",
      "A= 0.834 [d]\n",
      "A= 0.922 [e]\n",
      "A= nan [ST]\n"
     ]
    },
    {
     "name": "stderr",
     "output_type": "stream",
     "text": [
      "/home/nisarga/anaconda3/lib/python3.8/site-packages/sklearn/model_selection/_validation.py:615: FitFailedWarning: Estimator fit failed. The score on this train-test partition for these parameters will be set to nan. Details: \n",
      "Traceback (most recent call last):\n",
      "  File \"/home/nisarga/anaconda3/lib/python3.8/site-packages/sklearn/model_selection/_validation.py\", line 598, in _fit_and_score\n",
      "    estimator.fit(X_train, y_train, **fit_params)\n",
      "  File \"/home/nisarga/anaconda3/lib/python3.8/site-packages/sklearn/ensemble/_stacking.py\", line 441, in fit\n",
      "    return super().fit(X, self._le.transform(y), sample_weight)\n",
      "  File \"/home/nisarga/anaconda3/lib/python3.8/site-packages/sklearn/ensemble/_stacking.py\", line 139, in fit\n",
      "    names, all_estimators = self._validate_estimators()\n",
      "  File \"/home/nisarga/anaconda3/lib/python3.8/site-packages/sklearn/ensemble/_base.py\", line 225, in _validate_estimators\n",
      "    names, estimators = zip(*self.estimators)\n",
      "TypeError: 'DecisionTreeClassifier' object is not iterable\n",
      "\n",
      "  warnings.warn(\"Estimator fit failed. The score on this train-test\"\n",
      "/home/nisarga/anaconda3/lib/python3.8/site-packages/sklearn/model_selection/_validation.py:615: FitFailedWarning: Estimator fit failed. The score on this train-test partition for these parameters will be set to nan. Details: \n",
      "Traceback (most recent call last):\n",
      "  File \"/home/nisarga/anaconda3/lib/python3.8/site-packages/sklearn/model_selection/_validation.py\", line 598, in _fit_and_score\n",
      "    estimator.fit(X_train, y_train, **fit_params)\n",
      "  File \"/home/nisarga/anaconda3/lib/python3.8/site-packages/sklearn/ensemble/_stacking.py\", line 441, in fit\n",
      "    return super().fit(X, self._le.transform(y), sample_weight)\n",
      "  File \"/home/nisarga/anaconda3/lib/python3.8/site-packages/sklearn/ensemble/_stacking.py\", line 139, in fit\n",
      "    names, all_estimators = self._validate_estimators()\n",
      "  File \"/home/nisarga/anaconda3/lib/python3.8/site-packages/sklearn/ensemble/_base.py\", line 225, in _validate_estimators\n",
      "    names, estimators = zip(*self.estimators)\n",
      "TypeError: 'DecisionTreeClassifier' object is not iterable\n",
      "\n",
      "  warnings.warn(\"Estimator fit failed. The score on this train-test\"\n",
      "/home/nisarga/anaconda3/lib/python3.8/site-packages/sklearn/model_selection/_validation.py:615: FitFailedWarning: Estimator fit failed. The score on this train-test partition for these parameters will be set to nan. Details: \n",
      "Traceback (most recent call last):\n",
      "  File \"/home/nisarga/anaconda3/lib/python3.8/site-packages/sklearn/model_selection/_validation.py\", line 598, in _fit_and_score\n",
      "    estimator.fit(X_train, y_train, **fit_params)\n",
      "  File \"/home/nisarga/anaconda3/lib/python3.8/site-packages/sklearn/ensemble/_stacking.py\", line 441, in fit\n",
      "    return super().fit(X, self._le.transform(y), sample_weight)\n",
      "  File \"/home/nisarga/anaconda3/lib/python3.8/site-packages/sklearn/ensemble/_stacking.py\", line 139, in fit\n",
      "    names, all_estimators = self._validate_estimators()\n",
      "  File \"/home/nisarga/anaconda3/lib/python3.8/site-packages/sklearn/ensemble/_base.py\", line 225, in _validate_estimators\n",
      "    names, estimators = zip(*self.estimators)\n",
      "TypeError: 'DecisionTreeClassifier' object is not iterable\n",
      "\n",
      "  warnings.warn(\"Estimator fit failed. The score on this train-test\"\n",
      "/home/nisarga/anaconda3/lib/python3.8/site-packages/sklearn/model_selection/_validation.py:615: FitFailedWarning: Estimator fit failed. The score on this train-test partition for these parameters will be set to nan. Details: \n",
      "Traceback (most recent call last):\n",
      "  File \"/home/nisarga/anaconda3/lib/python3.8/site-packages/sklearn/model_selection/_validation.py\", line 598, in _fit_and_score\n",
      "    estimator.fit(X_train, y_train, **fit_params)\n",
      "  File \"/home/nisarga/anaconda3/lib/python3.8/site-packages/sklearn/ensemble/_stacking.py\", line 441, in fit\n",
      "    return super().fit(X, self._le.transform(y), sample_weight)\n",
      "  File \"/home/nisarga/anaconda3/lib/python3.8/site-packages/sklearn/ensemble/_stacking.py\", line 139, in fit\n",
      "    names, all_estimators = self._validate_estimators()\n",
      "  File \"/home/nisarga/anaconda3/lib/python3.8/site-packages/sklearn/ensemble/_base.py\", line 225, in _validate_estimators\n",
      "    names, estimators = zip(*self.estimators)\n",
      "TypeError: 'DecisionTreeClassifier' object is not iterable\n",
      "\n",
      "  warnings.warn(\"Estimator fit failed. The score on this train-test\"\n",
      "/home/nisarga/anaconda3/lib/python3.8/site-packages/sklearn/model_selection/_validation.py:615: FitFailedWarning: Estimator fit failed. The score on this train-test partition for these parameters will be set to nan. Details: \n",
      "Traceback (most recent call last):\n",
      "  File \"/home/nisarga/anaconda3/lib/python3.8/site-packages/sklearn/model_selection/_validation.py\", line 598, in _fit_and_score\n",
      "    estimator.fit(X_train, y_train, **fit_params)\n",
      "  File \"/home/nisarga/anaconda3/lib/python3.8/site-packages/sklearn/ensemble/_stacking.py\", line 441, in fit\n",
      "    return super().fit(X, self._le.transform(y), sample_weight)\n",
      "  File \"/home/nisarga/anaconda3/lib/python3.8/site-packages/sklearn/ensemble/_stacking.py\", line 139, in fit\n",
      "    names, all_estimators = self._validate_estimators()\n",
      "  File \"/home/nisarga/anaconda3/lib/python3.8/site-packages/sklearn/ensemble/_base.py\", line 225, in _validate_estimators\n",
      "    names, estimators = zip(*self.estimators)\n",
      "TypeError: 'DecisionTreeClassifier' object is not iterable\n",
      "\n",
      "  warnings.warn(\"Estimator fit failed. The score on this train-test\"\n",
      "/home/nisarga/anaconda3/lib/python3.8/site-packages/sklearn/model_selection/_validation.py:615: FitFailedWarning: Estimator fit failed. The score on this train-test partition for these parameters will be set to nan. Details: \n",
      "Traceback (most recent call last):\n",
      "  File \"/home/nisarga/anaconda3/lib/python3.8/site-packages/sklearn/model_selection/_validation.py\", line 598, in _fit_and_score\n",
      "    estimator.fit(X_train, y_train, **fit_params)\n",
      "  File \"/home/nisarga/anaconda3/lib/python3.8/site-packages/sklearn/ensemble/_stacking.py\", line 441, in fit\n",
      "    return super().fit(X, self._le.transform(y), sample_weight)\n",
      "  File \"/home/nisarga/anaconda3/lib/python3.8/site-packages/sklearn/ensemble/_stacking.py\", line 139, in fit\n",
      "    names, all_estimators = self._validate_estimators()\n",
      "  File \"/home/nisarga/anaconda3/lib/python3.8/site-packages/sklearn/ensemble/_base.py\", line 225, in _validate_estimators\n",
      "    names, estimators = zip(*self.estimators)\n",
      "TypeError: 'DecisionTreeClassifier' object is not iterable\n",
      "\n",
      "  warnings.warn(\"Estimator fit failed. The score on this train-test\"\n",
      "/home/nisarga/anaconda3/lib/python3.8/site-packages/sklearn/model_selection/_validation.py:615: FitFailedWarning: Estimator fit failed. The score on this train-test partition for these parameters will be set to nan. Details: \n",
      "Traceback (most recent call last):\n",
      "  File \"/home/nisarga/anaconda3/lib/python3.8/site-packages/sklearn/model_selection/_validation.py\", line 598, in _fit_and_score\n",
      "    estimator.fit(X_train, y_train, **fit_params)\n",
      "  File \"/home/nisarga/anaconda3/lib/python3.8/site-packages/sklearn/ensemble/_stacking.py\", line 441, in fit\n",
      "    return super().fit(X, self._le.transform(y), sample_weight)\n",
      "  File \"/home/nisarga/anaconda3/lib/python3.8/site-packages/sklearn/ensemble/_stacking.py\", line 139, in fit\n",
      "    names, all_estimators = self._validate_estimators()\n",
      "  File \"/home/nisarga/anaconda3/lib/python3.8/site-packages/sklearn/ensemble/_base.py\", line 225, in _validate_estimators\n",
      "    names, estimators = zip(*self.estimators)\n",
      "TypeError: 'DecisionTreeClassifier' object is not iterable\n",
      "\n",
      "  warnings.warn(\"Estimator fit failed. The score on this train-test\"\n",
      "/home/nisarga/anaconda3/lib/python3.8/site-packages/sklearn/model_selection/_validation.py:615: FitFailedWarning: Estimator fit failed. The score on this train-test partition for these parameters will be set to nan. Details: \n",
      "Traceback (most recent call last):\n",
      "  File \"/home/nisarga/anaconda3/lib/python3.8/site-packages/sklearn/model_selection/_validation.py\", line 598, in _fit_and_score\n",
      "    estimator.fit(X_train, y_train, **fit_params)\n",
      "  File \"/home/nisarga/anaconda3/lib/python3.8/site-packages/sklearn/ensemble/_stacking.py\", line 441, in fit\n",
      "    return super().fit(X, self._le.transform(y), sample_weight)\n",
      "  File \"/home/nisarga/anaconda3/lib/python3.8/site-packages/sklearn/ensemble/_stacking.py\", line 139, in fit\n",
      "    names, all_estimators = self._validate_estimators()\n",
      "  File \"/home/nisarga/anaconda3/lib/python3.8/site-packages/sklearn/ensemble/_base.py\", line 225, in _validate_estimators\n",
      "    names, estimators = zip(*self.estimators)\n",
      "TypeError: 'DecisionTreeClassifier' object is not iterable\n",
      "\n",
      "  warnings.warn(\"Estimator fit failed. The score on this train-test\"\n",
      "/home/nisarga/anaconda3/lib/python3.8/site-packages/sklearn/model_selection/_validation.py:615: FitFailedWarning: Estimator fit failed. The score on this train-test partition for these parameters will be set to nan. Details: \n",
      "Traceback (most recent call last):\n",
      "  File \"/home/nisarga/anaconda3/lib/python3.8/site-packages/sklearn/model_selection/_validation.py\", line 598, in _fit_and_score\n",
      "    estimator.fit(X_train, y_train, **fit_params)\n",
      "  File \"/home/nisarga/anaconda3/lib/python3.8/site-packages/sklearn/ensemble/_stacking.py\", line 441, in fit\n",
      "    return super().fit(X, self._le.transform(y), sample_weight)\n",
      "  File \"/home/nisarga/anaconda3/lib/python3.8/site-packages/sklearn/ensemble/_stacking.py\", line 139, in fit\n",
      "    names, all_estimators = self._validate_estimators()\n",
      "  File \"/home/nisarga/anaconda3/lib/python3.8/site-packages/sklearn/ensemble/_base.py\", line 225, in _validate_estimators\n",
      "    names, estimators = zip(*self.estimators)\n",
      "TypeError: 'DecisionTreeClassifier' object is not iterable\n",
      "\n",
      "  warnings.warn(\"Estimator fit failed. The score on this train-test\"\n",
      "/home/nisarga/anaconda3/lib/python3.8/site-packages/sklearn/model_selection/_validation.py:615: FitFailedWarning: Estimator fit failed. The score on this train-test partition for these parameters will be set to nan. Details: \n",
      "Traceback (most recent call last):\n",
      "  File \"/home/nisarga/anaconda3/lib/python3.8/site-packages/sklearn/model_selection/_validation.py\", line 598, in _fit_and_score\n",
      "    estimator.fit(X_train, y_train, **fit_params)\n",
      "  File \"/home/nisarga/anaconda3/lib/python3.8/site-packages/sklearn/ensemble/_stacking.py\", line 441, in fit\n",
      "    return super().fit(X, self._le.transform(y), sample_weight)\n",
      "  File \"/home/nisarga/anaconda3/lib/python3.8/site-packages/sklearn/ensemble/_stacking.py\", line 139, in fit\n",
      "    names, all_estimators = self._validate_estimators()\n",
      "  File \"/home/nisarga/anaconda3/lib/python3.8/site-packages/sklearn/ensemble/_base.py\", line 225, in _validate_estimators\n",
      "    names, estimators = zip(*self.estimators)\n",
      "TypeError: 'DecisionTreeClassifier' object is not iterable\n",
      "\n",
      "  warnings.warn(\"Estimator fit failed. The score on this train-test\"\n"
     ]
    }
   ],
   "source": [
    "for i,j in zip([a,b,c,d,e,st],['a','b','c','d','e','ST']):\n",
    "    score = model_selection.cross_val_score(i,X_train,y_train,cv=10,scoring='accuracy')\n",
    "    print(\"A= %0.3f [%s]\"%(score.mean(),j))"
   ]
  },
  {
   "cell_type": "code",
   "execution_count": 44,
   "metadata": {},
   "outputs": [],
   "source": [
    "from numpy import mean\n",
    "from numpy import std\n",
    "from sklearn.ensemble import RandomForestClassifier\n",
    "from sklearn.datasets import make_classification\n",
    "from sklearn.model_selection import cross_val_score\n",
    "from sklearn.model_selection import RepeatedStratifiedKFold\n",
    "from sklearn.linear_model import LogisticRegression\n",
    "from sklearn.neighbors import KNeighborsClassifier\n",
    "from sklearn.tree import DecisionTreeClassifier\n",
    "from sklearn.svm import SVC\n",
    "from sklearn.naive_bayes import GaussianNB\n",
    "from sklearn.ensemble import StackingClassifier\n",
    "from matplotlib import pyplot\n",
    "import pandas as pd"
   ]
  },
  {
   "cell_type": "code",
   "execution_count": 45,
   "metadata": {},
   "outputs": [],
   "source": [
    "data = pd.read_csv(\"ha.csv\")\n",
    "data.columns = ['age', 'sex', 'chest_pain_type', 'resting_blood_pressure', 'cholesterol', 'fasting_blood_sugar', 'rest_ecg', 'max_heart_rate_achieved',\n",
    "       'exercise_induced_angina', 'st_depression', 'st_slope','target']\n",
    "X = data.drop('target',axis=1)\n",
    "y = data['target']\n"
   ]
  },
  {
   "cell_type": "code",
   "execution_count": 46,
   "metadata": {},
   "outputs": [],
   "source": [
    "def get_stacking():\n",
    "\t# define the base models\n",
    "\tlevel0 = list()\n",
    "\tlevel0.append(('lr', LogisticRegression(C= 1.0, penalty= 'l2', solver= 'newton-cg')))\n",
    "\tlevel0.append(('knn', KNeighborsClassifier(metric= 'manhattan', n_neighbors= 17, weights= 'distance')))\n",
    "\tlevel0.append(('cart', DecisionTreeClassifier(criterion= 'entropy', max_depth= 12, max_features= 'auto', min_samples_leaf= 1, min_samples_split= 2)))\n",
    "\tlevel0.append(('svm',SVC(C= 1000, gamma= 0.0001, kernel= 'rbf')))\n",
    "\tlevel0.append(('bayes', GaussianNB()))\n",
    "\tlevel0.append(('rfa',RandomForestClassifier(max_features='log2', n_estimators= 1000)))\n",
    "\t# define meta learner model\n",
    "\tlevel1 = LogisticRegression(C= 1.0, penalty= 'l2', solver= 'newton-cg')\n",
    "\t# define the stacking ensemble\n",
    "\tmodel = StackingClassifier(estimators=level0, final_estimator=level1, cv=5)\n",
    "\treturn model"
   ]
  },
  {
   "cell_type": "code",
   "execution_count": 47,
   "metadata": {},
   "outputs": [],
   "source": [
    "def get_models():\n",
    "\tmodels = dict()\n",
    "\tmodels['lr'] = LogisticRegression()\n",
    "\tmodels['knn'] = KNeighborsClassifier()\n",
    "\tmodels['cart'] = DecisionTreeClassifier()\n",
    "\tmodels['svm'] = SVC()\n",
    "\tmodels['bayes'] = GaussianNB()\n",
    "\tmodels['stacking'] = get_stacking()\n",
    "\treturn models"
   ]
  },
  {
   "cell_type": "code",
   "execution_count": 48,
   "metadata": {},
   "outputs": [],
   "source": [
    "def evaluate_model(model, X, y):\n",
    "\tcv = RepeatedStratifiedKFold(n_splits=10, n_repeats=3, random_state=1)\n",
    "\tscores = cross_val_score(model, X, y, scoring='accuracy', cv=cv, n_jobs=-1, error_score='raise')\n",
    "\treturn scores"
   ]
  },
  {
   "cell_type": "code",
   "execution_count": 49,
   "metadata": {},
   "outputs": [
    {
     "name": "stdout",
     "output_type": "stream",
     "text": [
      ">lr 0.820 (0.031)\n",
      ">knn 0.699 (0.038)\n",
      ">cart 0.901 (0.030)\n",
      ">svm 0.710 (0.036)\n",
      ">bayes 0.840 (0.029)\n",
      ">stacking 0.941 (0.017)\n"
     ]
    },
    {
     "data": {
      "image/png": "[encoded data removed]",
      "text/plain": [
       "<Figure size 432x288 with 1 Axes>"
      ]
     },
     "metadata": {
      "needs_background": "light"
     },
     "output_type": "display_data"
    }
   ],
   "source": [
    "models = get_models()\n",
    "# evaluate the models and store results\n",
    "results, names = list(), list()\n",
    "for name, model in models.items():\n",
    "\tscores = evaluate_model(model, X, y)\n",
    "\tresults.append(scores)\n",
    "\tnames.append(name)\n",
    "\tprint('>%s %.3f (%.3f)' % (name, mean(scores), std(scores)))\n",
    "# plot model performance for comparison\n",
    "pyplot.boxplot(results, labels=names, showmeans=True)\n",
    "pyplot.show()"
   ]
  },
  {
   "cell_type": "code",
   "execution_count": 31,
   "metadata": {},
   "outputs": [
    {
     "ename": "NameError",
     "evalue": "name 'level0' is not defined",
     "output_type": "error",
     "traceback": [
      "\u001b[0;31m---------------------------------------------------------------------------\u001b[0m",
      "\u001b[0;31mNameError\u001b[0m                                 Traceback (most recent call last)",
      "\u001b[0;32m<ipython-input-31-3df62d8b5bf5>\u001b[0m in \u001b[0;36m<module>\u001b[0;34m\u001b[0m\n\u001b[0;32m----> 1\u001b[0;31m \u001b[0mmodel\u001b[0m \u001b[0;34m=\u001b[0m \u001b[0mStackingClassifier\u001b[0m\u001b[0;34m(\u001b[0m\u001b[0mestimators\u001b[0m\u001b[0;34m=\u001b[0m\u001b[0mlevel0\u001b[0m\u001b[0;34m,\u001b[0m \u001b[0mfinal_estimator\u001b[0m\u001b[0;34m=\u001b[0m\u001b[0mlevel1\u001b[0m\u001b[0;34m,\u001b[0m \u001b[0mcv\u001b[0m\u001b[0;34m=\u001b[0m\u001b[0;36m5\u001b[0m\u001b[0;34m)\u001b[0m\u001b[0;34m\u001b[0m\u001b[0;34m\u001b[0m\u001b[0m\n\u001b[0m\u001b[1;32m      2\u001b[0m \u001b[0mmodel\u001b[0m\u001b[0;34m.\u001b[0m\u001b[0mfit\u001b[0m\u001b[0;34m(\u001b[0m\u001b[0mX\u001b[0m\u001b[0;34m,\u001b[0m \u001b[0my\u001b[0m\u001b[0;34m)\u001b[0m\u001b[0;34m\u001b[0m\u001b[0;34m\u001b[0m\u001b[0m\n\u001b[1;32m      3\u001b[0m \u001b[0mdata\u001b[0m \u001b[0;34m=\u001b[0m \u001b[0;34m[\u001b[0m\u001b[0;36m40\u001b[0m\u001b[0;34m,\u001b[0m\u001b[0;36m1\u001b[0m\u001b[0;34m,\u001b[0m\u001b[0;36m2\u001b[0m\u001b[0;34m,\u001b[0m\u001b[0;36m140\u001b[0m\u001b[0;34m,\u001b[0m\u001b[0;36m289\u001b[0m\u001b[0;34m,\u001b[0m\u001b[0;36m0\u001b[0m\u001b[0;34m,\u001b[0m\u001b[0;36m0\u001b[0m\u001b[0;34m,\u001b[0m\u001b[0;36m172\u001b[0m\u001b[0;34m,\u001b[0m\u001b[0;36m0\u001b[0m\u001b[0;34m,\u001b[0m\u001b[0;36m0.0\u001b[0m\u001b[0;34m,\u001b[0m\u001b[0;36m1\u001b[0m\u001b[0;34m,\u001b[0m\u001b[0;36m0\u001b[0m\u001b[0;34m]\u001b[0m\u001b[0;34m\u001b[0m\u001b[0;34m\u001b[0m\u001b[0m\n\u001b[1;32m      4\u001b[0m \u001b[0myhat\u001b[0m \u001b[0;34m=\u001b[0m \u001b[0mmodel\u001b[0m\u001b[0;34m.\u001b[0m\u001b[0mpredict\u001b[0m\u001b[0;34m(\u001b[0m\u001b[0mdata\u001b[0m\u001b[0;34m)\u001b[0m\u001b[0;34m\u001b[0m\u001b[0;34m\u001b[0m\u001b[0m\n\u001b[1;32m      5\u001b[0m \u001b[0mprint\u001b[0m\u001b[0;34m(\u001b[0m\u001b[0;34m'Predicted Class: %d'\u001b[0m \u001b[0;34m%\u001b[0m \u001b[0;34m(\u001b[0m\u001b[0myhat\u001b[0m\u001b[0;34m)\u001b[0m\u001b[0;34m)\u001b[0m\u001b[0;34m\u001b[0m\u001b[0;34m\u001b[0m\u001b[0m\n",
      "\u001b[0;31mNameError\u001b[0m: name 'level0' is not defined"
     ]
    }
   ],
   "source": [
    "model = StackingClassifier(estimators=level0, final_estimator=level1, cv=5)\n",
    "model.fit(X, y)\n",
    "data = [40,1,2,140,289,0,0,172,0,0.0,1,0]\n",
    "yhat = model.predict(data)\n",
    "print('Predicted Class: %d' % (yhat))"
   ]
  },
  {
   "cell_type": "code",
   "execution_count": null,
   "metadata": {},
   "outputs": [],
   "source": []
  }
 ],
 "metadata": {
  "kernelspec": {
   "display_name": "Python 3",
   "language": "python",
   "name": "python3"
  },
  "language_info": {
   "codemirror_mode": {
    "name": "ipython",
    "version": 3
   },
   "file_extension": ".py",
   "mimetype": "text/x-python",
   "name": "python",
   "nbconvert_exporter": "python",
   "pygments_lexer": "ipython3",
   "version": "3.8.3"
  }
 },
 "nbformat": 4,
 "nbformat_minor": 4
}
