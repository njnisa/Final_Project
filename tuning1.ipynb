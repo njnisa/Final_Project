{
 "cells": [
  {
   "cell_type": "code",
   "execution_count": null,
   "metadata": {},
   "outputs": [],
   "source": [
    "import pandas as pd\n",
    "import numpy as np\n",
    "from sklearn.ensemble import RandomForestClassifier\n",
    "from sklearn.metrics import accuracy_score\n",
    "from yellowbrick.model_selection import validation_curve \n",
    "data = pd.read_csv(\"ha.csv\")\n",
    "data.columns = ['age', 'sex', 'chest_pain_type', 'resting_blood_pressure', 'cholesterol', 'fasting_blood_sugar', 'rest_ecg', 'max_heart_rate_achieved',\n",
    "       'exercise_induced_angina', 'st_depression', 'st_slope','target']\n",
    "X = data.drop('target',axis=1)\n",
    "y = data['target']\n",
    "from sklearn.model_selection import train_test_split\n",
    "X_train, X_test, y_train, y_test = train_test_split(X, y, test_size=0.2, random_state=0)\n",
    "classifier = RandomForestClassifier(n_estimators=100)\n",
    "classifier.fit(X_train, y_train)\n",
    "from sklearn.metrics import accuracy_score\n",
    "threshold =0.450958\n",
    "predicted_proba = classifier.predict_proba(X_test)\n",
    "pr = (predicted_proba [:,1] >= threshold).astype('int')\n",
    "accuracy = accuracy_score(y_test, pr)\n",
    "print(accuracy*100)\n",
    "num_est = np.arange(1,500,100)\n",
    "#print(validation_curve(RandomForestClassifier(), X, y, param_name=\"max_depth\", n_jobs=-1,param_range=np.arange(1, 11), cv=10, scoring=\"accuracy\"))\n",
    "train_scoreNum, test_scoreNum = validation_curve(RandomForestClassifier(),X , y , param_name = 'n_estimators', param_range = num_est, cv = 3,scoring=\"accuracy\")"
   ]
  },
  {
   "cell_type": "code",
   "execution_count": null,
   "metadata": {},
   "outputs": [],
   "source": []
  },
  {
   "cell_type": "code",
   "execution_count": null,
   "metadata": {},
   "outputs": [],
   "source": []
  }
 ],
 "metadata": {
  "kernelspec": {
   "display_name": "Python 3",
   "language": "python",
   "name": "python3"
  },
  "language_info": {
   "codemirror_mode": {
    "name": "ipython",
    "version": 3
   },
   "file_extension": ".py",
   "mimetype": "text/x-python",
   "name": "python",
   "nbconvert_exporter": "python",
   "pygments_lexer": "ipython3",
   "version": "3.8.3"
  }
 },
 "nbformat": 4,
 "nbformat_minor": 4
}
